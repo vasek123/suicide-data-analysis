{
 "cells": [
  {
   "cell_type": "code",
   "execution_count": 1,
   "metadata": {},
   "outputs": [],
   "source": [
    "import numpy as np\n",
    "import pandas as pd\n",
    "\n",
    "from sklearn.model_selection import train_test_split\n",
    "from sklearn.preprocessing import OneHotEncoder, PolynomialFeatures, StandardScaler\n",
    "from sklearn.linear_model import Lasso\n",
    "from sklearn.metrics import r2_score"
   ]
  },
  {
   "cell_type": "code",
   "execution_count": 2,
   "metadata": {},
   "outputs": [],
   "source": [
    "data = pd.read_csv(\"../data/suicide.csv\", index_col=0)"
   ]
  },
  {
   "cell_type": "code",
   "execution_count": 3,
   "metadata": {},
   "outputs": [
    {
     "data": {
      "text/html": [
       "<div>\n",
       "<style scoped>\n",
       "    .dataframe tbody tr th:only-of-type {\n",
       "        vertical-align: middle;\n",
       "    }\n",
       "\n",
       "    .dataframe tbody tr th {\n",
       "        vertical-align: top;\n",
       "    }\n",
       "\n",
       "    .dataframe thead th {\n",
       "        text-align: right;\n",
       "    }\n",
       "</style>\n",
       "<table border=\"1\" class=\"dataframe\">\n",
       "  <thead>\n",
       "    <tr style=\"text-align: right;\">\n",
       "      <th></th>\n",
       "      <th>country</th>\n",
       "      <th>year</th>\n",
       "      <th>sex</th>\n",
       "      <th>age</th>\n",
       "      <th>suicides_no</th>\n",
       "      <th>population</th>\n",
       "      <th>gdp_for_year</th>\n",
       "      <th>gdp_per_capita</th>\n",
       "      <th>generation</th>\n",
       "      <th>continent</th>\n",
       "    </tr>\n",
       "  </thead>\n",
       "  <tbody>\n",
       "    <tr>\n",
       "      <th>1</th>\n",
       "      <td>Albania</td>\n",
       "      <td>1987</td>\n",
       "      <td>Male</td>\n",
       "      <td>15-24</td>\n",
       "      <td>21</td>\n",
       "      <td>312900.0</td>\n",
       "      <td>2.156625e+09</td>\n",
       "      <td>796</td>\n",
       "      <td>Generation X</td>\n",
       "      <td>Europe</td>\n",
       "    </tr>\n",
       "    <tr>\n",
       "      <th>2</th>\n",
       "      <td>Albania</td>\n",
       "      <td>1987</td>\n",
       "      <td>Male</td>\n",
       "      <td>35-54</td>\n",
       "      <td>16</td>\n",
       "      <td>308000.0</td>\n",
       "      <td>2.156625e+09</td>\n",
       "      <td>796</td>\n",
       "      <td>Silent</td>\n",
       "      <td>Europe</td>\n",
       "    </tr>\n",
       "    <tr>\n",
       "      <th>3</th>\n",
       "      <td>Albania</td>\n",
       "      <td>1987</td>\n",
       "      <td>Female</td>\n",
       "      <td>15-24</td>\n",
       "      <td>14</td>\n",
       "      <td>289700.0</td>\n",
       "      <td>2.156625e+09</td>\n",
       "      <td>796</td>\n",
       "      <td>Generation X</td>\n",
       "      <td>Europe</td>\n",
       "    </tr>\n",
       "    <tr>\n",
       "      <th>4</th>\n",
       "      <td>Albania</td>\n",
       "      <td>1987</td>\n",
       "      <td>Male</td>\n",
       "      <td>75+</td>\n",
       "      <td>1</td>\n",
       "      <td>21800.0</td>\n",
       "      <td>2.156625e+09</td>\n",
       "      <td>796</td>\n",
       "      <td>G.I. Generation</td>\n",
       "      <td>Europe</td>\n",
       "    </tr>\n",
       "    <tr>\n",
       "      <th>5</th>\n",
       "      <td>Albania</td>\n",
       "      <td>1987</td>\n",
       "      <td>Male</td>\n",
       "      <td>25-34</td>\n",
       "      <td>9</td>\n",
       "      <td>274300.0</td>\n",
       "      <td>2.156625e+09</td>\n",
       "      <td>796</td>\n",
       "      <td>Boomers</td>\n",
       "      <td>Europe</td>\n",
       "    </tr>\n",
       "  </tbody>\n",
       "</table>\n",
       "</div>"
      ],
      "text/plain": [
       "   country  year     sex    age  suicides_no  population  gdp_for_year  \\\n",
       "1  Albania  1987    Male  15-24           21    312900.0  2.156625e+09   \n",
       "2  Albania  1987    Male  35-54           16    308000.0  2.156625e+09   \n",
       "3  Albania  1987  Female  15-24           14    289700.0  2.156625e+09   \n",
       "4  Albania  1987    Male    75+            1     21800.0  2.156625e+09   \n",
       "5  Albania  1987    Male  25-34            9    274300.0  2.156625e+09   \n",
       "\n",
       "   gdp_per_capita       generation continent  \n",
       "1             796     Generation X    Europe  \n",
       "2             796           Silent    Europe  \n",
       "3             796     Generation X    Europe  \n",
       "4             796  G.I. Generation    Europe  \n",
       "5             796          Boomers    Europe  "
      ]
     },
     "execution_count": 3,
     "metadata": {},
     "output_type": "execute_result"
    }
   ],
   "source": [
    "data.head()"
   ]
  },
  {
   "cell_type": "code",
   "execution_count": 4,
   "metadata": {},
   "outputs": [
    {
     "data": {
      "text/plain": [
       "array(['Generation X', 'Silent', 'G.I. Generation', 'Boomers',\n",
       "       'Millenials', 'Generation Z'], dtype=object)"
      ]
     },
     "execution_count": 4,
     "metadata": {},
     "output_type": "execute_result"
    }
   ],
   "source": [
    "data[\"generation\"].unique()"
   ]
  },
  {
   "cell_type": "code",
   "execution_count": 5,
   "metadata": {},
   "outputs": [],
   "source": [
    "_gen_order = { \"G.I. Generation\": 1, \"Silent\": 2, \"Boomers\": 3, \"Generation X\": 4, \"Millenials\": 5, \"Generation Z\": 6 }\n",
    "_age_order = { \"5-14\": 1, \"15-24\": 2, \"25-34\": 3, \"35-54\": 4, \"55-74\": 5, \"75+\": 6 }\n",
    "\n",
    "def map_generation(gen):\n",
    "    return _gen_order[gen]\n",
    "\n",
    "def map_age(age):\n",
    "    return _age_order[age]"
   ]
  },
  {
   "cell_type": "code",
   "execution_count": 6,
   "metadata": {},
   "outputs": [],
   "source": [
    "# Preprocess the data\n",
    "\n",
    "ml_data = data.copy()\n",
    "ml_data.loc[:, \"suicide_rate\"] = (ml_data[\"suicides_no\"] / ml_data[\"population\"]) * 100000\n",
    "ml_data[\"generation\"] = ml_data[\"generation\"].apply(map_generation)\n",
    "ml_data[\"age\"] = ml_data[\"age\"].apply(map_age)\n",
    "\n",
    "enc = OneHotEncoder()\n",
    "encoded = enc.fit_transform(ml_data[[\"country\", \"continent\", \"sex\"]])\n",
    "encoded = pd.DataFrame.sparse.from_spmatrix(encoded, columns=enc.get_feature_names([\"country\", \"continent\", \"sex\"]))\n",
    "\n",
    "ml_data = ml_data.drop(columns=[\"country\", \"continent\", \"sex\", \"suicides_no\"]).reset_index(drop=True)\n",
    "ml_data = pd.concat((ml_data, encoded), axis=1)\n"
   ]
  },
  {
   "cell_type": "code",
   "execution_count": 7,
   "metadata": {},
   "outputs": [
    {
     "data": {
      "text/html": [
       "<div>\n",
       "<style scoped>\n",
       "    .dataframe tbody tr th:only-of-type {\n",
       "        vertical-align: middle;\n",
       "    }\n",
       "\n",
       "    .dataframe tbody tr th {\n",
       "        vertical-align: top;\n",
       "    }\n",
       "\n",
       "    .dataframe thead th {\n",
       "        text-align: right;\n",
       "    }\n",
       "</style>\n",
       "<table border=\"1\" class=\"dataframe\">\n",
       "  <thead>\n",
       "    <tr style=\"text-align: right;\">\n",
       "      <th></th>\n",
       "      <th>year</th>\n",
       "      <th>age</th>\n",
       "      <th>population</th>\n",
       "      <th>gdp_for_year</th>\n",
       "      <th>gdp_per_capita</th>\n",
       "      <th>generation</th>\n",
       "      <th>suicide_rate</th>\n",
       "      <th>country_Albania</th>\n",
       "      <th>country_Antigua and Barbuda</th>\n",
       "      <th>country_Argentina</th>\n",
       "      <th>...</th>\n",
       "      <th>country_United States</th>\n",
       "      <th>country_Uruguay</th>\n",
       "      <th>country_Uzbekistan</th>\n",
       "      <th>continent_Africa</th>\n",
       "      <th>continent_Americas</th>\n",
       "      <th>continent_Asia</th>\n",
       "      <th>continent_Europe</th>\n",
       "      <th>continent_Oceania</th>\n",
       "      <th>sex_Female</th>\n",
       "      <th>sex_Male</th>\n",
       "    </tr>\n",
       "  </thead>\n",
       "  <tbody>\n",
       "    <tr>\n",
       "      <th>0</th>\n",
       "      <td>1987</td>\n",
       "      <td>2</td>\n",
       "      <td>312900.0</td>\n",
       "      <td>2.156625e+09</td>\n",
       "      <td>796</td>\n",
       "      <td>4</td>\n",
       "      <td>6.711409</td>\n",
       "      <td>1.0</td>\n",
       "      <td>0.0</td>\n",
       "      <td>0.0</td>\n",
       "      <td>...</td>\n",
       "      <td>0.0</td>\n",
       "      <td>0.0</td>\n",
       "      <td>0.0</td>\n",
       "      <td>0.0</td>\n",
       "      <td>0.0</td>\n",
       "      <td>0.0</td>\n",
       "      <td>1.0</td>\n",
       "      <td>0.0</td>\n",
       "      <td>0.0</td>\n",
       "      <td>1.0</td>\n",
       "    </tr>\n",
       "    <tr>\n",
       "      <th>1</th>\n",
       "      <td>1987</td>\n",
       "      <td>4</td>\n",
       "      <td>308000.0</td>\n",
       "      <td>2.156625e+09</td>\n",
       "      <td>796</td>\n",
       "      <td>2</td>\n",
       "      <td>5.194805</td>\n",
       "      <td>1.0</td>\n",
       "      <td>0.0</td>\n",
       "      <td>0.0</td>\n",
       "      <td>...</td>\n",
       "      <td>0.0</td>\n",
       "      <td>0.0</td>\n",
       "      <td>0.0</td>\n",
       "      <td>0.0</td>\n",
       "      <td>0.0</td>\n",
       "      <td>0.0</td>\n",
       "      <td>1.0</td>\n",
       "      <td>0.0</td>\n",
       "      <td>0.0</td>\n",
       "      <td>1.0</td>\n",
       "    </tr>\n",
       "    <tr>\n",
       "      <th>2</th>\n",
       "      <td>1987</td>\n",
       "      <td>2</td>\n",
       "      <td>289700.0</td>\n",
       "      <td>2.156625e+09</td>\n",
       "      <td>796</td>\n",
       "      <td>4</td>\n",
       "      <td>4.832585</td>\n",
       "      <td>1.0</td>\n",
       "      <td>0.0</td>\n",
       "      <td>0.0</td>\n",
       "      <td>...</td>\n",
       "      <td>0.0</td>\n",
       "      <td>0.0</td>\n",
       "      <td>0.0</td>\n",
       "      <td>0.0</td>\n",
       "      <td>0.0</td>\n",
       "      <td>0.0</td>\n",
       "      <td>1.0</td>\n",
       "      <td>0.0</td>\n",
       "      <td>1.0</td>\n",
       "      <td>0.0</td>\n",
       "    </tr>\n",
       "    <tr>\n",
       "      <th>3</th>\n",
       "      <td>1987</td>\n",
       "      <td>6</td>\n",
       "      <td>21800.0</td>\n",
       "      <td>2.156625e+09</td>\n",
       "      <td>796</td>\n",
       "      <td>1</td>\n",
       "      <td>4.587156</td>\n",
       "      <td>1.0</td>\n",
       "      <td>0.0</td>\n",
       "      <td>0.0</td>\n",
       "      <td>...</td>\n",
       "      <td>0.0</td>\n",
       "      <td>0.0</td>\n",
       "      <td>0.0</td>\n",
       "      <td>0.0</td>\n",
       "      <td>0.0</td>\n",
       "      <td>0.0</td>\n",
       "      <td>1.0</td>\n",
       "      <td>0.0</td>\n",
       "      <td>0.0</td>\n",
       "      <td>1.0</td>\n",
       "    </tr>\n",
       "    <tr>\n",
       "      <th>4</th>\n",
       "      <td>1987</td>\n",
       "      <td>3</td>\n",
       "      <td>274300.0</td>\n",
       "      <td>2.156625e+09</td>\n",
       "      <td>796</td>\n",
       "      <td>3</td>\n",
       "      <td>3.281079</td>\n",
       "      <td>1.0</td>\n",
       "      <td>0.0</td>\n",
       "      <td>0.0</td>\n",
       "      <td>...</td>\n",
       "      <td>0.0</td>\n",
       "      <td>0.0</td>\n",
       "      <td>0.0</td>\n",
       "      <td>0.0</td>\n",
       "      <td>0.0</td>\n",
       "      <td>0.0</td>\n",
       "      <td>1.0</td>\n",
       "      <td>0.0</td>\n",
       "      <td>0.0</td>\n",
       "      <td>1.0</td>\n",
       "    </tr>\n",
       "  </tbody>\n",
       "</table>\n",
       "<p>5 rows × 114 columns</p>\n",
       "</div>"
      ],
      "text/plain": [
       "   year  age  population  gdp_for_year  gdp_per_capita  generation  \\\n",
       "0  1987    2    312900.0  2.156625e+09             796           4   \n",
       "1  1987    4    308000.0  2.156625e+09             796           2   \n",
       "2  1987    2    289700.0  2.156625e+09             796           4   \n",
       "3  1987    6     21800.0  2.156625e+09             796           1   \n",
       "4  1987    3    274300.0  2.156625e+09             796           3   \n",
       "\n",
       "   suicide_rate  country_Albania  country_Antigua and Barbuda  \\\n",
       "0      6.711409              1.0                          0.0   \n",
       "1      5.194805              1.0                          0.0   \n",
       "2      4.832585              1.0                          0.0   \n",
       "3      4.587156              1.0                          0.0   \n",
       "4      3.281079              1.0                          0.0   \n",
       "\n",
       "   country_Argentina  ...  country_United States  country_Uruguay  \\\n",
       "0                0.0  ...                    0.0              0.0   \n",
       "1                0.0  ...                    0.0              0.0   \n",
       "2                0.0  ...                    0.0              0.0   \n",
       "3                0.0  ...                    0.0              0.0   \n",
       "4                0.0  ...                    0.0              0.0   \n",
       "\n",
       "   country_Uzbekistan  continent_Africa  continent_Americas  continent_Asia  \\\n",
       "0                 0.0               0.0                 0.0             0.0   \n",
       "1                 0.0               0.0                 0.0             0.0   \n",
       "2                 0.0               0.0                 0.0             0.0   \n",
       "3                 0.0               0.0                 0.0             0.0   \n",
       "4                 0.0               0.0                 0.0             0.0   \n",
       "\n",
       "   continent_Europe  continent_Oceania  sex_Female  sex_Male  \n",
       "0               1.0                0.0         0.0       1.0  \n",
       "1               1.0                0.0         0.0       1.0  \n",
       "2               1.0                0.0         1.0       0.0  \n",
       "3               1.0                0.0         0.0       1.0  \n",
       "4               1.0                0.0         0.0       1.0  \n",
       "\n",
       "[5 rows x 114 columns]"
      ]
     },
     "execution_count": 7,
     "metadata": {},
     "output_type": "execute_result"
    }
   ],
   "source": [
    "ml_data.head()"
   ]
  },
  {
   "cell_type": "code",
   "execution_count": 8,
   "metadata": {},
   "outputs": [],
   "source": [
    "X = ml_data.drop(columns=\"suicide_rate\")\n",
    "y = ml_data[\"suicide_rate\"]"
   ]
  },
  {
   "cell_type": "code",
   "execution_count": 9,
   "metadata": {},
   "outputs": [],
   "source": [
    "X_train, X_test, y_train, y_test = train_test_split(X, y, test_size = 0.3, random_state=42)"
   ]
  },
  {
   "cell_type": "code",
   "execution_count": 10,
   "metadata": {},
   "outputs": [
    {
     "name": "stderr",
     "output_type": "stream",
     "text": [
      "/home/vaclav/cvut-uni/san/suicide_prevention/venv/lib/python3.8/site-packages/sklearn/utils/validation.py:515: UserWarning: pandas.DataFrame with sparse columns found.It will be converted to a dense numpy array.\n",
      "  warnings.warn(\n",
      "/home/vaclav/cvut-uni/san/suicide_prevention/venv/lib/python3.8/site-packages/sklearn/utils/validation.py:515: UserWarning: pandas.DataFrame with sparse columns found.It will be converted to a dense numpy array.\n",
      "  warnings.warn(\n",
      "/home/vaclav/cvut-uni/san/suicide_prevention/venv/lib/python3.8/site-packages/sklearn/utils/validation.py:515: UserWarning: pandas.DataFrame with sparse columns found.It will be converted to a dense numpy array.\n",
      "  warnings.warn(\n"
     ]
    }
   ],
   "source": [
    "scaler = StandardScaler()\n",
    "X_train = scaler.fit_transform(X_train)\n",
    "X_test = scaler.transform(X_test)"
   ]
  },
  {
   "cell_type": "code",
   "execution_count": 11,
   "metadata": {},
   "outputs": [],
   "source": [
    "# Create the polynomial features\n",
    "poly = PolynomialFeatures(degree=2)\n",
    "X_train = poly.fit_transform(X_train)\n",
    "X_test = poly.fit_transform(X_test)"
   ]
  },
  {
   "cell_type": "code",
   "execution_count": 20,
   "metadata": {},
   "outputs": [
    {
     "data": {
      "text/plain": [
       "Lasso(alpha=0.04)"
      ]
     },
     "execution_count": 20,
     "metadata": {},
     "output_type": "execute_result"
    }
   ],
   "source": [
    "lasso = Lasso(alpha=0.04)\n",
    "lasso.fit(X_train, y_train)"
   ]
  },
  {
   "cell_type": "code",
   "execution_count": 21,
   "metadata": {},
   "outputs": [
    {
     "data": {
      "text/plain": [
       "0.7755169888084715"
      ]
     },
     "execution_count": 21,
     "metadata": {},
     "output_type": "execute_result"
    }
   ],
   "source": [
    "lasso.score(X_test, y_test)"
   ]
  },
  {
   "cell_type": "code",
   "execution_count": 22,
   "metadata": {},
   "outputs": [],
   "source": [
    "coefs = pd.DataFrame(np.expand_dims(lasso.coef_, 1).T, columns=poly.get_feature_names(X.columns.to_numpy()))\n",
    "coefs = coefs.T\n",
    "coefs.columns = [\"coef\"]\n",
    "coefs[\"coef_abs\"] = abs(coefs[\"coef\"])"
   ]
  },
  {
   "cell_type": "code",
   "execution_count": 23,
   "metadata": {},
   "outputs": [
    {
     "data": {
      "text/html": [
       "<div>\n",
       "<style scoped>\n",
       "    .dataframe tbody tr th:only-of-type {\n",
       "        vertical-align: middle;\n",
       "    }\n",
       "\n",
       "    .dataframe tbody tr th {\n",
       "        vertical-align: top;\n",
       "    }\n",
       "\n",
       "    .dataframe thead th {\n",
       "        text-align: right;\n",
       "    }\n",
       "</style>\n",
       "<table border=\"1\" class=\"dataframe\">\n",
       "  <thead>\n",
       "    <tr style=\"text-align: right;\">\n",
       "      <th></th>\n",
       "      <th>coef</th>\n",
       "      <th>coef_abs</th>\n",
       "    </tr>\n",
       "  </thead>\n",
       "  <tbody>\n",
       "    <tr>\n",
       "      <th>sex_Female</th>\n",
       "      <td>-7.313353</td>\n",
       "      <td>7.313353</td>\n",
       "    </tr>\n",
       "    <tr>\n",
       "      <th>age</th>\n",
       "      <td>6.921953</td>\n",
       "      <td>6.921953</td>\n",
       "    </tr>\n",
       "    <tr>\n",
       "      <th>population country_Bulgaria</th>\n",
       "      <td>-5.812996</td>\n",
       "      <td>5.812996</td>\n",
       "    </tr>\n",
       "    <tr>\n",
       "      <th>population country_Austria</th>\n",
       "      <td>-4.294995</td>\n",
       "      <td>4.294995</td>\n",
       "    </tr>\n",
       "    <tr>\n",
       "      <th>age sex_Female</th>\n",
       "      <td>-4.069151</td>\n",
       "      <td>4.069151</td>\n",
       "    </tr>\n",
       "    <tr>\n",
       "      <th>population country_Serbia</th>\n",
       "      <td>-3.839121</td>\n",
       "      <td>3.839121</td>\n",
       "    </tr>\n",
       "    <tr>\n",
       "      <th>age continent_Europe</th>\n",
       "      <td>3.250874</td>\n",
       "      <td>3.250874</td>\n",
       "    </tr>\n",
       "    <tr>\n",
       "      <th>population</th>\n",
       "      <td>-3.059884</td>\n",
       "      <td>3.059884</td>\n",
       "    </tr>\n",
       "    <tr>\n",
       "      <th>gdp_per_capita country_Suriname</th>\n",
       "      <td>2.187438</td>\n",
       "      <td>2.187438</td>\n",
       "    </tr>\n",
       "    <tr>\n",
       "      <th>country_Lithuania sex_Female</th>\n",
       "      <td>-1.875434</td>\n",
       "      <td>1.875434</td>\n",
       "    </tr>\n",
       "  </tbody>\n",
       "</table>\n",
       "</div>"
      ],
      "text/plain": [
       "                                     coef  coef_abs\n",
       "sex_Female                      -7.313353  7.313353\n",
       "age                              6.921953  6.921953\n",
       "population country_Bulgaria     -5.812996  5.812996\n",
       "population country_Austria      -4.294995  4.294995\n",
       "age sex_Female                  -4.069151  4.069151\n",
       "population country_Serbia       -3.839121  3.839121\n",
       "age continent_Europe             3.250874  3.250874\n",
       "population                      -3.059884  3.059884\n",
       "gdp_per_capita country_Suriname  2.187438  2.187438\n",
       "country_Lithuania sex_Female    -1.875434  1.875434"
      ]
     },
     "execution_count": 23,
     "metadata": {},
     "output_type": "execute_result"
    }
   ],
   "source": [
    "coefs.sort_values(by=\"coef_abs\", ascending=False).head(10)"
   ]
  },
  {
   "cell_type": "code",
   "execution_count": null,
   "metadata": {},
   "outputs": [],
   "source": []
  }
 ],
 "metadata": {
  "kernelspec": {
   "display_name": "sklearn",
   "language": "python",
   "name": "sklearn"
  },
  "language_info": {
   "codemirror_mode": {
    "name": "ipython",
    "version": 3
   },
   "file_extension": ".py",
   "mimetype": "text/x-python",
   "name": "python",
   "nbconvert_exporter": "python",
   "pygments_lexer": "ipython3",
   "version": "3.8.5"
  },
  "varInspector": {
   "cols": {
    "lenName": 16,
    "lenType": 16,
    "lenVar": 40
   },
   "kernels_config": {
    "python": {
     "delete_cmd_postfix": "",
     "delete_cmd_prefix": "del ",
     "library": "var_list.py",
     "varRefreshCmd": "print(var_dic_list())"
    },
    "r": {
     "delete_cmd_postfix": ") ",
     "delete_cmd_prefix": "rm(",
     "library": "var_list.r",
     "varRefreshCmd": "cat(var_dic_list()) "
    }
   },
   "types_to_exclude": [
    "module",
    "function",
    "builtin_function_or_method",
    "instance",
    "_Feature"
   ],
   "window_display": false
  }
 },
 "nbformat": 4,
 "nbformat_minor": 4
}
